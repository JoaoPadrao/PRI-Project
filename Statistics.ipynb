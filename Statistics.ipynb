{
 "cells": [
  {
   "cell_type": "markdown",
   "metadata": {},
   "source": [
    "# Dataset Statistics "
   ]
  },
  {
   "cell_type": "markdown",
   "metadata": {},
   "source": [
    "-  See if there is any missing data"
   ]
  },
  {
   "cell_type": "code",
   "execution_count": 32,
   "metadata": {},
   "outputs": [
    {
     "name": "stdout",
     "output_type": "stream",
     "text": [
      "ID                                  0\n",
      "Country                             1\n",
      "Latitude                            0\n",
      "Longitude                           0\n",
      "Page                               72\n",
      "Battle                              6\n",
      "Year                                0\n",
      "Participants                      370\n",
      "War                                 3\n",
      "Winner                             24\n",
      "Loser                             251\n",
      "Participant 1                    7750\n",
      "Participant 2                    7753\n",
      "Lehmann Zhukov Scale             3642\n",
      "Theatre                             0\n",
      "Polygon                          7954\n",
      "Massacre                            2\n",
      "Alternative Sources Consulted    4254\n",
      "Infered Scale                    7254\n",
      "Minor                            7829\n",
      "Description                         1\n",
      "dtype: int64\n"
     ]
    }
   ],
   "source": [
    "import pandas as pd\n",
    "import matplotlib.pyplot as plt\n",
    "\n",
    "df = pd.read_csv(\"final.csv\")\n",
    "\n",
    "# See the null values in the dataset\n",
    "print(df.isnull().sum())\n",
    "\n"
   ]
  }
 ],
 "metadata": {
  "kernelspec": {
   "display_name": "Python 3",
   "language": "python",
   "name": "python3"
  },
  "language_info": {
   "codemirror_mode": {
    "name": "ipython",
    "version": 3
   },
   "file_extension": ".py",
   "mimetype": "text/x-python",
   "name": "python",
   "nbconvert_exporter": "python",
   "pygments_lexer": "ipython3",
   "version": "3.11.9"
  }
 },
 "nbformat": 4,
 "nbformat_minor": 2
}
